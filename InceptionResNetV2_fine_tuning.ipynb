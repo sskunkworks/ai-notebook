{
  "nbformat": 4,
  "nbformat_minor": 0,
  "metadata": {
    "colab": {
      "name": "InceptionResNetV2_fine_tuning.ipynb",
      "provenance": [],
      "collapsed_sections": [],
      "mount_file_id": "1RKWwqUOvi0mkC8k4hPN8tYrKwpAaqIqH",
      "authorship_tag": "ABX9TyN5+x5pWartcOmXG5yHKYZu",
      "include_colab_link": true
    },
    "kernelspec": {
      "name": "python3",
      "display_name": "Python 3"
    },
    "language_info": {
      "name": "python"
    },
    "accelerator": "GPU"
  },
  "cells": [
    {
      "cell_type": "markdown",
      "metadata": {
        "id": "view-in-github",
        "colab_type": "text"
      },
      "source": [
        "<a href=\"https://colab.research.google.com/github/sskunkworks/ai-notebook/blob/main/InceptionResNetV2_fine_tuning.ipynb\" target=\"_parent\"><img src=\"https://colab.research.google.com/assets/colab-badge.svg\" alt=\"Open In Colab\"/></a>"
      ]
    },
    {
      "cell_type": "code",
      "metadata": {
        "id": "JvfEhscd9T-b"
      },
      "source": [
        "# 데이터셋 준비\n",
        "\n",
        "!unzip 'drive/MyDrive/datasets/ArtImage/test.zip'\n",
        "!unzip 'drive/MyDrive/datasets/ArtImage/train.zip'\n",
        "!unzip 'drive/MyDrive/datasets/ArtImage/test_labeled.zip'"
      ],
      "execution_count": null,
      "outputs": []
    },
    {
      "cell_type": "code",
      "metadata": {
        "id": "ZILToz_6zotA"
      },
      "source": [
        "import tensorflow as tf\n",
        "import tensorflow.keras.optimizers as Optimizer\n",
        "from tensorflow.keras.preprocessing.image import ImageDataGenerator \n",
        "from tensorflow.keras.layers import AveragePooling2D\n",
        "from tensorflow.keras.layers import Dropout\n",
        "from tensorflow.keras.layers import Flatten\n",
        "from tensorflow.keras.layers import Dense\n",
        "from tensorflow.keras.layers import Input\n",
        "from tensorflow.keras.models import Model\n",
        "from keras.models import load_model\n",
        "\n",
        "from tensorflow.keras.optimizers import Adam\n",
        "from tensorflow.keras.applications import InceptionResNetV2\n",
        "import numpy as np"
      ],
      "execution_count": 2,
      "outputs": []
    },
    {
      "cell_type": "code",
      "metadata": {
        "id": "T0ROzsvkzq-5"
      },
      "source": [
        "# 모델 셋업\n",
        "baseModel = InceptionResNetV2(include_top=False, \n",
        "                                weights=\"imagenet\",\n",
        "                                #classes=7,\n",
        "                                input_tensor = Input(shape=(224,224,3)))\n",
        "\n",
        "\n",
        "headModel = baseModel.output\n",
        "headModel = AveragePooling2D(pool_size=(2, 2))(headModel)\n",
        "headModel = Flatten(name=\"flatten\")(headModel)\n",
        "headModel = Dense(256, activation=\"relu\")(headModel)\n",
        "headModel = Dropout(0.5)(headModel)\n",
        "headModel = Dense(7, activation=\"softmax\")(headModel)\n",
        "model = Model(inputs=baseModel.input, outputs=headModel)\n",
        "# 모델 학습을 freeze한다.\n",
        "for layer in baseModel.layers:\n",
        "  layer.trainable = False\n",
        "model.compile(optimizer=Optimizer.Adam(learning_rate=0.0001),loss='categorical_crossentropy',metrics=['accuracy'])\n",
        "\n",
        "model.summary()"
      ],
      "execution_count": null,
      "outputs": []
    },
    {
      "cell_type": "code",
      "metadata": {
        "id": "qR3K-3FOGdXd"
      },
      "source": [
        "#model.load_weights(\"drive/MyDrive/datasets/ArtImage/my_weights_99.h5\")"
      ],
      "execution_count": 4,
      "outputs": []
    },
    {
      "cell_type": "code",
      "metadata": {
        "colab": {
          "base_uri": "https://localhost:8080/"
        },
        "id": "qBDPcdv3GA1W",
        "outputId": "6177616e-8ed1-4ffb-c19a-fd5176fd36cc"
      },
      "source": [
        "# Image generator 설정\n",
        "train_dir = '/content/train/'\n",
        "\n",
        "train_datagen = ImageDataGenerator(\n",
        "        rescale=1./255,\n",
        "        shear_range=0.2,\n",
        "        zoom_range=0.2,\n",
        "        validation_split=0.2,\n",
        "        horizontal_flip=True)\n",
        "\n",
        "train_generator = train_datagen.flow_from_directory(\n",
        "        train_dir,\n",
        "        target_size=(224, 224),\n",
        "        batch_size=1361,\n",
        "        class_mode='categorical',\n",
        "        subset='training')\n",
        "\n",
        "validation_generator = train_datagen.flow_from_directory(\n",
        "        train_dir, \n",
        "        target_size=(224, 224),\n",
        "        batch_size=1361,\n",
        "        class_mode='categorical',\n",
        "        subset='validation') # set as validation data"
      ],
      "execution_count": 5,
      "outputs": [
        {
          "output_type": "stream",
          "text": [
            "Found 1361 images belonging to 7 classes.\n",
            "Found 337 images belonging to 7 classes.\n"
          ],
          "name": "stdout"
        }
      ]
    },
    {
      "cell_type": "code",
      "metadata": {
        "colab": {
          "base_uri": "https://localhost:8080/"
        },
        "id": "uQGuUF2lQ527",
        "outputId": "25ba8225-4734-411f-a4dc-420dcbfa1fde"
      },
      "source": [
        "trained = model.fit(train_generator, validation_data=validation_generator, epochs=35)"
      ],
      "execution_count": 8,
      "outputs": [
        {
          "output_type": "stream",
          "text": [
            "Found 1361 images belonging to 7 classes.\n",
            "Found 337 images belonging to 7 classes.\n",
            "Epoch 1/35\n",
            "22/22 [==============================] - 31s 1s/step - loss: 0.0633 - accuracy: 0.9816 - val_loss: 0.1893 - val_accuracy: 0.9436\n",
            "Epoch 2/35\n",
            "22/22 [==============================] - 28s 1s/step - loss: 0.0673 - accuracy: 0.9735 - val_loss: 0.1883 - val_accuracy: 0.9466\n",
            "Epoch 3/35\n",
            "22/22 [==============================] - 28s 1s/step - loss: 0.0584 - accuracy: 0.9809 - val_loss: 0.1934 - val_accuracy: 0.9466\n",
            "Epoch 4/35\n",
            "22/22 [==============================] - 28s 1s/step - loss: 0.0587 - accuracy: 0.9816 - val_loss: 0.1739 - val_accuracy: 0.9525\n",
            "Epoch 5/35\n",
            "22/22 [==============================] - 28s 1s/step - loss: 0.0655 - accuracy: 0.9787 - val_loss: 0.1649 - val_accuracy: 0.9614\n",
            "Epoch 6/35\n",
            "22/22 [==============================] - 28s 1s/step - loss: 0.0571 - accuracy: 0.9816 - val_loss: 0.1949 - val_accuracy: 0.9436\n",
            "Epoch 7/35\n",
            "22/22 [==============================] - 28s 1s/step - loss: 0.0522 - accuracy: 0.9875 - val_loss: 0.1681 - val_accuracy: 0.9555\n",
            "Epoch 8/35\n",
            "22/22 [==============================] - 28s 1s/step - loss: 0.0488 - accuracy: 0.9882 - val_loss: 0.1613 - val_accuracy: 0.9555\n",
            "Epoch 9/35\n",
            "22/22 [==============================] - 28s 1s/step - loss: 0.0414 - accuracy: 0.9919 - val_loss: 0.2109 - val_accuracy: 0.9347\n",
            "Epoch 10/35\n",
            "22/22 [==============================] - 28s 1s/step - loss: 0.0382 - accuracy: 0.9912 - val_loss: 0.1982 - val_accuracy: 0.9585\n",
            "Epoch 11/35\n",
            "22/22 [==============================] - 28s 1s/step - loss: 0.0430 - accuracy: 0.9860 - val_loss: 0.2085 - val_accuracy: 0.9525\n",
            "Epoch 12/35\n",
            "22/22 [==============================] - 27s 1s/step - loss: 0.0416 - accuracy: 0.9890 - val_loss: 0.1984 - val_accuracy: 0.9407\n",
            "Epoch 13/35\n",
            "22/22 [==============================] - 27s 1s/step - loss: 0.0342 - accuracy: 0.9927 - val_loss: 0.2136 - val_accuracy: 0.9496\n",
            "Epoch 14/35\n",
            "22/22 [==============================] - 27s 1s/step - loss: 0.0405 - accuracy: 0.9912 - val_loss: 0.1858 - val_accuracy: 0.9436\n",
            "Epoch 15/35\n",
            "22/22 [==============================] - 27s 1s/step - loss: 0.0297 - accuracy: 0.9949 - val_loss: 0.2055 - val_accuracy: 0.9436\n",
            "Epoch 16/35\n",
            "22/22 [==============================] - 28s 1s/step - loss: 0.0380 - accuracy: 0.9897 - val_loss: 0.1838 - val_accuracy: 0.9525\n",
            "Epoch 17/35\n",
            "22/22 [==============================] - 27s 1s/step - loss: 0.0366 - accuracy: 0.9904 - val_loss: 0.1539 - val_accuracy: 0.9525\n",
            "Epoch 18/35\n",
            "22/22 [==============================] - 28s 1s/step - loss: 0.0413 - accuracy: 0.9890 - val_loss: 0.1309 - val_accuracy: 0.9525\n",
            "Epoch 19/35\n",
            "22/22 [==============================] - 28s 1s/step - loss: 0.0519 - accuracy: 0.9890 - val_loss: 0.1743 - val_accuracy: 0.9644\n",
            "Epoch 20/35\n",
            "22/22 [==============================] - 28s 1s/step - loss: 0.0344 - accuracy: 0.9912 - val_loss: 0.1692 - val_accuracy: 0.9555\n",
            "Epoch 21/35\n",
            "22/22 [==============================] - 28s 1s/step - loss: 0.0527 - accuracy: 0.9838 - val_loss: 0.1980 - val_accuracy: 0.9407\n",
            "Epoch 22/35\n",
            "22/22 [==============================] - 28s 1s/step - loss: 0.0601 - accuracy: 0.9794 - val_loss: 0.1418 - val_accuracy: 0.9555\n",
            "Epoch 23/35\n",
            "22/22 [==============================] - 28s 1s/step - loss: 0.0386 - accuracy: 0.9934 - val_loss: 0.1971 - val_accuracy: 0.9466\n",
            "Epoch 24/35\n",
            "22/22 [==============================] - 28s 1s/step - loss: 0.0324 - accuracy: 0.9934 - val_loss: 0.1360 - val_accuracy: 0.9644\n",
            "Epoch 25/35\n",
            "22/22 [==============================] - 28s 1s/step - loss: 0.0386 - accuracy: 0.9897 - val_loss: 0.2210 - val_accuracy: 0.9377\n",
            "Epoch 26/35\n",
            "22/22 [==============================] - 28s 1s/step - loss: 0.0296 - accuracy: 0.9904 - val_loss: 0.1637 - val_accuracy: 0.9496\n",
            "Epoch 27/35\n",
            "22/22 [==============================] - 28s 1s/step - loss: 0.0360 - accuracy: 0.9882 - val_loss: 0.2525 - val_accuracy: 0.9377\n",
            "Epoch 28/35\n",
            "22/22 [==============================] - 28s 1s/step - loss: 0.0321 - accuracy: 0.9904 - val_loss: 0.1713 - val_accuracy: 0.9466\n",
            "Epoch 29/35\n",
            "22/22 [==============================] - 28s 1s/step - loss: 0.0310 - accuracy: 0.9927 - val_loss: 0.1984 - val_accuracy: 0.9436\n",
            "Epoch 30/35\n",
            "22/22 [==============================] - 28s 1s/step - loss: 0.0348 - accuracy: 0.9882 - val_loss: 0.1620 - val_accuracy: 0.9407\n",
            "Epoch 31/35\n",
            "22/22 [==============================] - 28s 1s/step - loss: 0.0391 - accuracy: 0.9912 - val_loss: 0.1805 - val_accuracy: 0.9436\n",
            "Epoch 32/35\n",
            "22/22 [==============================] - 28s 1s/step - loss: 0.0272 - accuracy: 0.9927 - val_loss: 0.2123 - val_accuracy: 0.9436\n",
            "Epoch 33/35\n",
            "22/22 [==============================] - 28s 1s/step - loss: 0.0291 - accuracy: 0.9949 - val_loss: 0.2358 - val_accuracy: 0.9377\n",
            "Epoch 34/35\n",
            "22/22 [==============================] - 28s 1s/step - loss: 0.0331 - accuracy: 0.9897 - val_loss: 0.1839 - val_accuracy: 0.9644\n",
            "Epoch 35/35\n",
            "22/22 [==============================] - 28s 1s/step - loss: 0.0258 - accuracy: 0.9941 - val_loss: 0.1842 - val_accuracy: 0.9525\n"
          ],
          "name": "stdout"
        }
      ]
    },
    {
      "cell_type": "code",
      "metadata": {
        "id": "Xwx6ZCVJuLTg"
      },
      "source": [
        "import matplotlib.pyplot as plt\n",
        "\n",
        "def show_result():\n",
        "  acc = trained.history['accuracy']\n",
        "  val_acc = trained.history['val_accuracy']\n",
        "  loss = trained.history['loss']\n",
        "  val_loss = trained.history['val_loss']\n",
        "\n",
        "  epochs = range(1,len(acc)+1)\n",
        "\n",
        "  plt.plot(epochs, acc, 'bo', label='Training acc')\n",
        "  plt.plot(epochs, val_acc, 'b', label='Validation acc')\n",
        "  plt.title('Training and validation accuracy')\n",
        "  plt.legend()\n",
        "\n",
        "  plt.figure()\n",
        "  plt.plot(epochs, loss, 'bo', label='Training loss')\n",
        "  plt.plot(epochs, val_loss, 'b', label='Validation loss')\n",
        "  plt.title('Training and validation loss')\n",
        "  plt.legend()\n",
        "\n",
        "  plt.show()\n",
        "\n"
      ],
      "execution_count": 6,
      "outputs": []
    },
    {
      "cell_type": "code",
      "metadata": {
        "id": "3WppOhezGGbb"
      },
      "source": [
        "show_result()"
      ],
      "execution_count": null,
      "outputs": []
    },
    {
      "cell_type": "code",
      "metadata": {
        "colab": {
          "base_uri": "https://localhost:8080/"
        },
        "id": "7Nd5qryKxt4Y",
        "outputId": "066a3a73-460a-44a4-9f68-d02251993f37"
      },
      "source": [
        "test_dir = '/content/test_labeled/'\n",
        "\n",
        "test_datagen = ImageDataGenerator(rescale=1./255)\n",
        "\n",
        "test_generator = test_datagen.flow_from_directory(\n",
        "        test_dir, \n",
        "        target_size=(224, 224),\n",
        "        batch_size=64,\n",
        "        class_mode='categorical')\n",
        "\n"
      ],
      "execution_count": 7,
      "outputs": [
        {
          "output_type": "stream",
          "text": [
            "Found 350 images belonging to 7 classes.\n"
          ],
          "name": "stdout"
        }
      ]
    },
    {
      "cell_type": "code",
      "metadata": {
        "colab": {
          "base_uri": "https://localhost:8080/"
        },
        "id": "AjqfrbtzGKnA",
        "outputId": "6f7dec76-bcd4-4c2a-d717-a85a779e897b"
      },
      "source": [
        "test_loss, test_acc = model.evaluate_generator(test_generator, steps=50)\n",
        "print('test acc', test_acc)"
      ],
      "execution_count": 25,
      "outputs": [
        {
          "output_type": "stream",
          "text": [
            "/usr/local/lib/python3.7/dist-packages/tensorflow/python/keras/engine/training.py:1973: UserWarning: `Model.evaluate_generator` is deprecated and will be removed in a future version. Please use `Model.evaluate`, which supports generators.\n",
            "  warnings.warn('`Model.evaluate_generator` is deprecated and '\n"
          ],
          "name": "stderr"
        },
        {
          "output_type": "stream",
          "text": [
            "WARNING:tensorflow:Your input ran out of data; interrupting training. Make sure that your dataset or generator can generate at least `steps_per_epoch * epochs` batches (in this case, 50 batches). You may need to use the repeat() function when building your dataset.\n",
            "test acc 0.8742856979370117\n"
          ],
          "name": "stdout"
        }
      ]
    },
    {
      "cell_type": "code",
      "metadata": {
        "id": "v8Zt-01PwvDJ"
      },
      "source": [
        "model.save_weights(\"my_weights.h5\")"
      ],
      "execution_count": 16,
      "outputs": []
    },
    {
      "cell_type": "code",
      "metadata": {
        "id": "0XNvZ_kYbNNZ",
        "colab": {
          "base_uri": "https://localhost:8080/"
        },
        "outputId": "e3537b31-24ec-4445-dc51-a72535ff9e4b"
      },
      "source": [
        "# 일정 이상 학습 후, backbone을 미세조정한다.\n",
        "baseModel.trainable = True\n",
        "\n",
        "set_trainable = False\n",
        "for layer in baseModel.layers:\n",
        "  if layer.name == 'conv2d_200':\n",
        "    set_trainable = True\n",
        "  if set_trainable == True:\n",
        "    layer.trainable = True\n",
        "  else:\n",
        "    layer.trainable = False\n",
        "\n",
        "model.compile(optimizer=Optimizer.Adam(learning_rate=1e-5),loss='categorical_crossentropy',metrics=['accuracy'])\n",
        "\n",
        "trained = model.fit(train_generator, validation_data=validation_generator, epochs=35)"
      ],
      "execution_count": 8,
      "outputs": [
        {
          "output_type": "stream",
          "text": [
            "Epoch 1/35\n",
            "1/1 [==============================] - 109s 109s/step - loss: 0.0090 - accuracy: 1.0000 - val_loss: 0.1966 - val_accuracy: 0.9585\n",
            "Epoch 2/35\n",
            "1/1 [==============================] - 24s 24s/step - loss: 0.0104 - accuracy: 0.9978 - val_loss: 0.1610 - val_accuracy: 0.9555\n",
            "Epoch 3/35\n",
            "1/1 [==============================] - 24s 24s/step - loss: 0.0098 - accuracy: 0.9978 - val_loss: 0.1960 - val_accuracy: 0.9407\n",
            "Epoch 4/35\n",
            "1/1 [==============================] - 24s 24s/step - loss: 0.0134 - accuracy: 0.9985 - val_loss: 0.1979 - val_accuracy: 0.9674\n",
            "Epoch 5/35\n",
            "1/1 [==============================] - 24s 24s/step - loss: 0.0086 - accuracy: 0.9993 - val_loss: 0.1421 - val_accuracy: 0.9614\n",
            "Epoch 6/35\n",
            "1/1 [==============================] - 24s 24s/step - loss: 0.0105 - accuracy: 0.9985 - val_loss: 0.1330 - val_accuracy: 0.9555\n",
            "Epoch 7/35\n",
            "1/1 [==============================] - 24s 24s/step - loss: 0.0073 - accuracy: 0.9993 - val_loss: 0.1536 - val_accuracy: 0.9585\n",
            "Epoch 8/35\n",
            "1/1 [==============================] - 24s 24s/step - loss: 0.0123 - accuracy: 0.9971 - val_loss: 0.1893 - val_accuracy: 0.9555\n",
            "Epoch 9/35\n",
            "1/1 [==============================] - 24s 24s/step - loss: 0.0142 - accuracy: 0.9971 - val_loss: 0.1518 - val_accuracy: 0.9525\n",
            "Epoch 10/35\n",
            "1/1 [==============================] - 25s 25s/step - loss: 0.0121 - accuracy: 0.9985 - val_loss: 0.1674 - val_accuracy: 0.9585\n",
            "Epoch 11/35\n",
            "1/1 [==============================] - 24s 24s/step - loss: 0.0082 - accuracy: 0.9993 - val_loss: 0.1435 - val_accuracy: 0.9614\n",
            "Epoch 12/35\n",
            "1/1 [==============================] - 24s 24s/step - loss: 0.0080 - accuracy: 0.9993 - val_loss: 0.1227 - val_accuracy: 0.9674\n",
            "Epoch 13/35\n",
            "1/1 [==============================] - 24s 24s/step - loss: 0.0087 - accuracy: 0.9985 - val_loss: 0.1208 - val_accuracy: 0.9644\n",
            "Epoch 14/35\n",
            "1/1 [==============================] - 24s 24s/step - loss: 0.0092 - accuracy: 0.9993 - val_loss: 0.2028 - val_accuracy: 0.9436\n",
            "Epoch 15/35\n",
            "1/1 [==============================] - 24s 24s/step - loss: 0.0070 - accuracy: 0.9993 - val_loss: 0.1374 - val_accuracy: 0.9644\n",
            "Epoch 16/35\n",
            "1/1 [==============================] - 24s 24s/step - loss: 0.0083 - accuracy: 0.9985 - val_loss: 0.1710 - val_accuracy: 0.9466\n",
            "Epoch 17/35\n",
            "1/1 [==============================] - 24s 24s/step - loss: 0.0067 - accuracy: 0.9993 - val_loss: 0.1833 - val_accuracy: 0.9525\n",
            "Epoch 18/35\n",
            "1/1 [==============================] - 24s 24s/step - loss: 0.0109 - accuracy: 0.9971 - val_loss: 0.1499 - val_accuracy: 0.9555\n",
            "Epoch 19/35\n",
            "1/1 [==============================] - 24s 24s/step - loss: 0.0083 - accuracy: 0.9993 - val_loss: 0.1940 - val_accuracy: 0.9555\n",
            "Epoch 20/35\n",
            "1/1 [==============================] - 24s 24s/step - loss: 0.0072 - accuracy: 0.9993 - val_loss: 0.1370 - val_accuracy: 0.9555\n",
            "Epoch 21/35\n",
            "1/1 [==============================] - 24s 24s/step - loss: 0.0070 - accuracy: 1.0000 - val_loss: 0.1364 - val_accuracy: 0.9733\n",
            "Epoch 22/35\n",
            "1/1 [==============================] - 24s 24s/step - loss: 0.0073 - accuracy: 1.0000 - val_loss: 0.1613 - val_accuracy: 0.9555\n",
            "Epoch 23/35\n",
            "1/1 [==============================] - 24s 24s/step - loss: 0.0110 - accuracy: 0.9963 - val_loss: 0.1776 - val_accuracy: 0.9525\n",
            "Epoch 24/35\n",
            "1/1 [==============================] - 24s 24s/step - loss: 0.0097 - accuracy: 0.9993 - val_loss: 0.1579 - val_accuracy: 0.9525\n",
            "Epoch 25/35\n",
            "1/1 [==============================] - 24s 24s/step - loss: 0.0100 - accuracy: 0.9971 - val_loss: 0.2447 - val_accuracy: 0.9436\n",
            "Epoch 26/35\n",
            "1/1 [==============================] - 24s 24s/step - loss: 0.0085 - accuracy: 0.9978 - val_loss: 0.1192 - val_accuracy: 0.9674\n",
            "Epoch 27/35\n",
            "1/1 [==============================] - 24s 24s/step - loss: 0.0068 - accuracy: 0.9993 - val_loss: 0.1381 - val_accuracy: 0.9644\n",
            "Epoch 28/35\n",
            "1/1 [==============================] - 24s 24s/step - loss: 0.0083 - accuracy: 0.9993 - val_loss: 0.1344 - val_accuracy: 0.9614\n",
            "Epoch 29/35\n",
            "1/1 [==============================] - 24s 24s/step - loss: 0.0052 - accuracy: 1.0000 - val_loss: 0.1559 - val_accuracy: 0.9525\n",
            "Epoch 30/35\n",
            "1/1 [==============================] - 24s 24s/step - loss: 0.0091 - accuracy: 0.9985 - val_loss: 0.1657 - val_accuracy: 0.9614\n",
            "Epoch 31/35\n",
            "1/1 [==============================] - 24s 24s/step - loss: 0.0075 - accuracy: 0.9985 - val_loss: 0.2007 - val_accuracy: 0.9525\n",
            "Epoch 32/35\n",
            "1/1 [==============================] - 24s 24s/step - loss: 0.0072 - accuracy: 0.9993 - val_loss: 0.1785 - val_accuracy: 0.9555\n",
            "Epoch 33/35\n",
            "1/1 [==============================] - 24s 24s/step - loss: 0.0078 - accuracy: 0.9985 - val_loss: 0.2187 - val_accuracy: 0.9407\n",
            "Epoch 34/35\n",
            "1/1 [==============================] - 24s 24s/step - loss: 0.0072 - accuracy: 0.9993 - val_loss: 0.1618 - val_accuracy: 0.9496\n",
            "Epoch 35/35\n",
            "1/1 [==============================] - 24s 24s/step - loss: 0.0098 - accuracy: 0.9971 - val_loss: 0.1619 - val_accuracy: 0.9436\n"
          ],
          "name": "stdout"
        }
      ]
    },
    {
      "cell_type": "code",
      "metadata": {
        "colab": {
          "base_uri": "https://localhost:8080/",
          "height": 545
        },
        "id": "a_dNoMEOyCLI",
        "outputId": "32adb838-8985-4a89-c651-6a0356912600"
      },
      "source": [
        "show_result()"
      ],
      "execution_count": 35,
      "outputs": [
        {
          "output_type": "display_data",
          "data": {
            "image/png": "[encoded data removed]",
            "text/plain": [
              "<Figure size 432x288 with 1 Axes>"
            ]
          },
          "metadata": {
            "tags": [],
            "needs_background": "light"
          }
        },
        {
          "output_type": "display_data",
          "data": {
            "image/png": "[encoded data removed]",
            "text/plain": [
              "<Figure size 432x288 with 1 Axes>"
            ]
          },
          "metadata": {
            "tags": [],
            "needs_background": "light"
          }
        }
      ]
    },
    {
      "cell_type": "code",
      "metadata": {
        "colab": {
          "base_uri": "https://localhost:8080/"
        },
        "id": "gZpOJyAys3v_",
        "outputId": "dd332055-d93d-4403-a746-9b70ba6938b3"
      },
      "source": [
        "test_loss, test_acc = model.evaluate_generator(test_generator, steps=50)\n",
        "print('test acc', test_acc)"
      ],
      "execution_count": 10,
      "outputs": [
        {
          "output_type": "stream",
          "text": [
            "/usr/local/lib/python3.7/dist-packages/tensorflow/python/keras/engine/training.py:1973: UserWarning: `Model.evaluate_generator` is deprecated and will be removed in a future version. Please use `Model.evaluate`, which supports generators.\n",
            "  warnings.warn('`Model.evaluate_generator` is deprecated and '\n"
          ],
          "name": "stderr"
        },
        {
          "output_type": "stream",
          "text": [
            "WARNING:tensorflow:Your input ran out of data; interrupting training. Make sure that your dataset or generator can generate at least `steps_per_epoch * epochs` batches (in this case, 50 batches). You may need to use the repeat() function when building your dataset.\n",
            "test acc 0.868571400642395\n"
          ],
          "name": "stdout"
        }
      ]
    },
    {
      "cell_type": "code",
      "metadata": {
        "id": "_cpGI80b93fv"
      },
      "source": [
        "model.save_weights(\"my_weights.h5\")"
      ],
      "execution_count": 9,
      "outputs": []
    },
    {
      "cell_type": "code",
      "metadata": {
        "id": "7KNFRrDPBNHU"
      },
      "source": [
        ""
      ],
      "execution_count": null,
      "outputs": []
    }
  ]
}