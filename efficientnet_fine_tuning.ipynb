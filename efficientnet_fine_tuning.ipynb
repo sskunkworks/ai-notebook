{
  "nbformat": 4,
  "nbformat_minor": 0,
  "metadata": {
    "colab": {
      "name": "efficientnet_fine_tuning.ipynb",
      "provenance": [],
      "collapsed_sections": [],
      "mount_file_id": "1RKWwqUOvi0mkC8k4hPN8tYrKwpAaqIqH",
      "authorship_tag": "ABX9TyPRRSjVlqhjvc53H4+i3tFy",
      "include_colab_link": true
    },
    "kernelspec": {
      "name": "python3",
      "display_name": "Python 3"
    },
    "language_info": {
      "name": "python"
    }
  },
  "cells": [
    {
      "cell_type": "markdown",
      "metadata": {
        "id": "view-in-github",
        "colab_type": "text"
      },
      "source": [
        "<a href=\"https://colab.research.google.com/github/sskunkworks/ai-notebook/blob/main/efficientnet_fine_tuning.ipynb\" target=\"_parent\"><img src=\"https://colab.research.google.com/assets/colab-badge.svg\" alt=\"Open In Colab\"/></a>"
      ]
    },
    {
      "cell_type": "code",
      "metadata": {
        "id": "JvfEhscd9T-b"
      },
      "source": [
        "# 데이터셋 준비\n",
        "\n",
        "!unzip 'drive/MyDrive/datasets/ArtImage/test.zip'\n",
        "!unzip 'drive/MyDrive/datasets/ArtImage/train.zip'\n",
        "!unzip 'drive/MyDrive/datasets/ArtImage/test_labeled.zip'"
      ],
      "execution_count": null,
      "outputs": []
    },
    {
      "cell_type": "code",
      "metadata": {
        "id": "ZILToz_6zotA"
      },
      "source": [
        "import tensorflow as tf"
      ],
      "execution_count": 1,
      "outputs": []
    },
    {
      "cell_type": "code",
      "metadata": {
        "id": "T0ROzsvkzq-5"
      },
      "source": [
        ""
      ],
      "execution_count": null,
      "outputs": []
    }
  ]
}